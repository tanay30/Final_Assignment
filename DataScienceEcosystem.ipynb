{
 "cells": [
  {
   "cell_type": "markdown",
   "id": "4541811d-4380-4a30-96fa-4db041d46810",
   "metadata": {},
   "source": [
    "# Data Science Tools and Ecosystem"
   ]
  },
  {
   "cell_type": "markdown",
   "id": "0939e7e1-6714-4f53-84af-762996052396",
   "metadata": {},
   "source": [
    "## In this notebook, Data Science Tools and Ecosystem are summarized|"
   ]
  },
  {
   "cell_type": "markdown",
   "id": "abebf02c-3f15-4c84-bafc-100a6e53ebb1",
   "metadata": {},
   "source": [
    "### Some of the popular languages that Data Scientists use are:"
   ]
  },
  {
   "cell_type": "markdown",
   "id": "aa1c615a-3de1-4fa2-a35f-1e092a9b9c6f",
   "metadata": {},
   "source": [
    "1. Python\n",
    "2. R\n",
    "3. SQL"
   ]
  },
  {
   "cell_type": "markdown",
   "id": "6caecdf1-12a8-428d-827f-8b62c35f87cf",
   "metadata": {},
   "source": [
    "### Some of the commonly used libraries used by Data Scientists include:"
   ]
  },
  {
   "cell_type": "markdown",
   "id": "7efd457e-fd81-487c-97b4-afc20060b013",
   "metadata": {},
   "source": [
    "1. Pandas\n",
    "2. Numpy\n",
    "3. ggplot\n",
    "4. matplotlib"
   ]
  },
  {
   "cell_type": "markdown",
   "id": "bd197690-1e59-4cdd-a69a-f31c947ab6ba",
   "metadata": {},
   "source": [
    "|Data Science Tools|\n",
    "|---------------|\n",
    "|RStudio|\n",
    "|JupyterLab|\n",
    "|VS Code|\n",
    "|Apache Zeppelin|"
   ]
  },
  {
   "cell_type": "markdown",
   "id": "f2e82784-530a-40a8-8b9d-3973ef6561b5",
   "metadata": {},
   "source": [
    "### Below are a few examples of evaluating arithmetic expressions in Python"
   ]
  },
  {
   "cell_type": "code",
   "execution_count": 4,
   "id": "72f592ba-a0ea-4f6f-b36d-8960f9d0a386",
   "metadata": {},
   "outputs": [
    {
     "data": {
      "text/plain": [
       "17"
      ]
     },
     "execution_count": 4,
     "metadata": {},
     "output_type": "execute_result"
    }
   ],
   "source": [
    "#This a simple arithmetic expression to mutiply then add integers\n",
    "(3*4)+5"
   ]
  },
  {
   "cell_type": "code",
   "execution_count": 9,
   "id": "1bfb8615-31c2-4cb2-8425-ec78e2036a41",
   "metadata": {},
   "outputs": [
    {
     "name": "stdout",
     "output_type": "stream",
     "text": [
      "3.33\n"
     ]
    }
   ],
   "source": [
    "#This will convert 200 minutes to hours by diving by 60\n",
    "minutes=200\n",
    "print(round(minutes/60,2))"
   ]
  },
  {
   "cell_type": "markdown",
   "id": "a41f93aa-2936-4fea-a1c2-6a48f4741556",
   "metadata": {},
   "source": [
    "# **Objectives**"
   ]
  },
  {
   "cell_type": "markdown",
   "id": "1fa8f3e2-d03b-4e19-8a84-2c4ea9b40d4a",
   "metadata": {},
   "source": [
    "* List popular languages for Data Science\n",
    "* List of open source tools used for data science\n",
    "* How to upload code files on githup\n",
    "* Different ways to do plotting in R language\n",
    "* Complete guide to use jupyterlab and jupyter notebook"
   ]
  },
  {
   "cell_type": "markdown",
   "id": "ddc845d7-0aaf-4345-90e3-6499e35f39d0",
   "metadata": {},
   "source": [
    "## Author"
   ]
  },
  {
   "cell_type": "markdown",
   "id": "26293d1e-d1c9-4ba7-836c-bfd35faf7925",
   "metadata": {},
   "source": [
    "Tanay Gupta"
   ]
  },
  {
   "cell_type": "code",
   "execution_count": null,
   "id": "e186ac0e-404a-4e93-885d-4e9054c196c0",
   "metadata": {},
   "outputs": [],
   "source": []
  }
 ],
 "metadata": {
  "kernelspec": {
   "display_name": "Python 3 (ipykernel)",
   "language": "python",
   "name": "python3"
  },
  "language_info": {
   "codemirror_mode": {
    "name": "ipython",
    "version": 3
   },
   "file_extension": ".py",
   "mimetype": "text/x-python",
   "name": "python",
   "nbconvert_exporter": "python",
   "pygments_lexer": "ipython3",
   "version": "3.13.5"
  }
 },
 "nbformat": 4,
 "nbformat_minor": 5
}
